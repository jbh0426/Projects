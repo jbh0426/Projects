{
  "metadata": {
    "language_info": {
      "codemirror_mode": {
        "name": "python",
        "version": 3
      },
      "file_extension": ".py",
      "mimetype": "text/x-python",
      "name": "python",
      "nbconvert_exporter": "python",
      "pygments_lexer": "ipython3",
      "version": "3.8"
    },
    "kernelspec": {
      "name": "python",
      "display_name": "Python (Pyodide)",
      "language": "python"
    }
  },
  "nbformat_minor": 4,
  "nbformat": 4,
  "cells": [
    {
      "cell_type": "markdown",
      "source": "# H1 My Jupyter Notebook on IBM Watson Studio",
      "metadata": {}
    },
    {
      "cell_type": "markdown",
      "source": "**Julius Hill**",
      "metadata": {}
    },
    {
      "cell_type": "markdown",
      "source": "*I enjoy solving problems using data*",
      "metadata": {}
    },
    {
      "cell_type": "markdown",
      "source": "### H3 The code will multiply integers",
      "metadata": {}
    },
    {
      "cell_type": "code",
      "source": "3*3",
      "metadata": {
        "trusted": true
      },
      "execution_count": 6,
      "outputs": [
        {
          "execution_count": 6,
          "output_type": "execute_result",
          "data": {
            "text/plain": "9"
          },
          "metadata": {}
        }
      ]
    },
    {
      "cell_type": "markdown",
      "source": "Markdown | Less | Pretty\n---| ---|---\n*Still* | 'renders'| **nicely**\n1|2|3",
      "metadata": {}
    },
    {
      "cell_type": "markdown",
      "source": "[I'm an inline-style link with title](https://www.google.com \"Google's Homepage\")",
      "metadata": {}
    },
    {
      "cell_type": "code",
      "source": "",
      "metadata": {},
      "execution_count": null,
      "outputs": []
    },
    {
      "cell_type": "markdown",
      "source": "<a href=\"http://www.youtube.com/watch?feature=player_embedded&v=YOUTUBE_VIDEO_ID_HERE\n\" target=\"_blank\"><img src=\"https://www.youtube.com/watch?v=B7WK1ATQA6U\" \nalt=\"YOUTUBE VIDEO CLICK HERE\" width=\"240\" height=\"180\" border=\"10\" /></a>",
      "metadata": {}
    },
    {
      "cell_type": "markdown",
      "source": "![alt text](https://pngimg.com/image/2756 \"Logo Title Text 1\")",
      "metadata": {}
    }
  ]
}